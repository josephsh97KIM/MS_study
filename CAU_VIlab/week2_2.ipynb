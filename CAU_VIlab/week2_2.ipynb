{
 "cells": [
  {
   "cell_type": "markdown",
   "id": "b9632e79",
   "metadata": {},
   "source": [
    "# 지도 학습: 회귀 "
   ]
  },
  {
   "cell_type": "markdown",
   "id": "52a31bb2",
   "metadata": {},
   "source": [
    "## 5.1 1차원 입력 직선 모델"
   ]
  },
  {
   "cell_type": "code",
   "execution_count": 1,
   "id": "5ddf6674",
   "metadata": {},
   "outputs": [],
   "source": [
    "import numpy as np\n",
    "import matplotlib.pyplot as plt\n",
    "%matplotlib inline\n",
    "\n",
    "#데이터 생성\n",
    "np.random.seed(seed = 1)\n",
    "X_min = 4              # X의 하한\n",
    "X_max = 30             # X 의 상한\n",
    "X_n = 16               # X 의 상한\n",
    "X = 5 + 25 * np.random.rand(X_n)\n",
    "\n",
    "Prm_c = [170, 108, 0.2]            # 생성 매개 변수\n",
    "T = Prm_c[0] - Prm_c[1] * np.exp(-Prm_c[2] * X) + 4 * np.random.randn(X_n) # 이를 통해 X에서 T를 결정\n",
    "np.savez('ch5_data.npz', X = X, X_min = X_min, X_max = X_max, X_n = X_n, T = T) # 생성한 데이터를 ch5_data.npz로 생성"
   ]
  },
  {
   "cell_type": "code",
   "execution_count": 2,
   "id": "2b46d8b2",
   "metadata": {},
   "outputs": [
    {
     "name": "stdout",
     "output_type": "stream",
     "text": [
      "[15.42555012 23.00811234  5.00285937 12.55831432  8.66889727  7.30846487\n",
      "  9.65650528 13.63901818 14.91918686 18.47041835 15.47986286 22.13048751\n",
      " 10.11130624 26.95293591  5.68468983 21.76168775]\n"
     ]
    }
   ],
   "source": [
    "print(X)"
   ]
  },
  {
   "cell_type": "code",
   "execution_count": 3,
   "id": "8fb18b6e",
   "metadata": {},
   "outputs": [
    {
     "name": "stdout",
     "output_type": "stream",
     "text": [
      "[15.43 23.01  5.   12.56  8.67  7.31  9.66 13.64 14.92 18.47 15.48 22.13\n",
      " 10.11 26.95  5.68 21.76]\n"
     ]
    }
   ],
   "source": [
    "print(np.round(X,2))  #반올림하여 np.round함수를 사용하여 깔끔하게 표시"
   ]
  },
  {
   "cell_type": "code",
   "execution_count": 4,
   "id": "a603ae88",
   "metadata": {},
   "outputs": [
    {
     "name": "stdout",
     "output_type": "stream",
     "text": [
      "[170.91 160.68 129.   159.7  155.46 140.56 153.65 159.43 164.7  169.65\n",
      " 160.71 173.29 159.31 171.52 138.96 165.87]\n"
     ]
    }
   ],
   "source": [
    "print(np.round(T,2))  #np.round의 두번째 인수2는 소수점 이하 몇 자리를 결정할 지 지정"
   ]
  },
  {
   "cell_type": "code",
   "execution_count": 5,
   "id": "139788b6",
   "metadata": {},
   "outputs": [
    {
     "data": {
      "image/png": "[encoded data removed]",
      "text/plain": [
       "<Figure size 288x288 with 1 Axes>"
      ]
     },
     "metadata": {
      "needs_background": "light"
     },
     "output_type": "display_data"
    }
   ],
   "source": [
    "plt.figure(figsize = (4, 4))  \n",
    "plt.plot(X, T, marker = 'o', linestyle = 'None', markeredgecolor = 'black', color = 'cornflowerblue')  \n",
    "plt.xlim(X_min, X_max)\n",
    "plt.grid(True)\n",
    "plt.show()                  #데이터 그래프 그리기"
   ]
  },
  {
   "cell_type": "code",
   "execution_count": null,
   "id": "78d7483c",
   "metadata": {},
   "outputs": [],
   "source": []
  }
 ],
 "metadata": {
  "kernelspec": {
   "display_name": "Python 3 (ipykernel)",
   "language": "python",
   "name": "python3"
  },
  "language_info": {
   "codemirror_mode": {
    "name": "ipython",
    "version": 3
   },
   "file_extension": ".py",
   "mimetype": "text/x-python",
   "name": "python",
   "nbconvert_exporter": "python",
   "pygments_lexer": "ipython3",
   "version": "3.8.11"
  }
 },
 "nbformat": 4,
 "nbformat_minor": 5
}
