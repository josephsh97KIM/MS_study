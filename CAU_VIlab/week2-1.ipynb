{
 "cells": [
  {
   "cell_type": "markdown",
   "id": "5b21d67d",
   "metadata": {},
   "source": [
    "# 4장 머신러닝에 필요한 수학의 기본"
   ]
  },
  {
   "cell_type": "markdown",
   "id": "abbb543b",
   "metadata": {},
   "source": [
    "## 4.1 벡터"
   ]
  },
  {
   "cell_type": "code",
   "execution_count": 1,
   "id": "a74f1b35",
   "metadata": {},
   "outputs": [],
   "source": [
    "import numpy as np   #numpy 라이브러리 import "
   ]
  },
  {
   "cell_type": "code",
   "execution_count": 2,
   "id": "5dbaf800",
   "metadata": {},
   "outputs": [
    {
     "name": "stdout",
     "output_type": "stream",
     "text": [
      "[2 1]\n"
     ]
    }
   ],
   "source": [
    "a = np.array([2,1])\n",
    "print(a)"
   ]
  },
  {
   "cell_type": "code",
   "execution_count": 3,
   "id": "20413f6e",
   "metadata": {
    "scrolled": true
   },
   "outputs": [
    {
     "data": {
      "text/plain": [
       "numpy.ndarray"
      ]
     },
     "execution_count": 3,
     "metadata": {},
     "output_type": "execute_result"
    }
   ],
   "source": [
    "type(a)"
   ]
  },
  {
   "cell_type": "code",
   "execution_count": 4,
   "id": "860b3846",
   "metadata": {},
   "outputs": [
    {
     "name": "stdout",
     "output_type": "stream",
     "text": [
      "[[1 2]\n",
      " [3 4]]\n"
     ]
    }
   ],
   "source": [
    "c=np.array([[1,2],[3,4]]) #2X2 2차원 행렬\n",
    "print(c)"
   ]
  },
  {
   "cell_type": "code",
   "execution_count": 5,
   "id": "779ec180",
   "metadata": {},
   "outputs": [
    {
     "name": "stdout",
     "output_type": "stream",
     "text": [
      "[[1]\n",
      " [2]]\n"
     ]
    }
   ],
   "source": [
    "d=np.array([[1],[2]]) #2X1 2차원 행렬\n",
    "print(d)"
   ]
  },
  {
   "cell_type": "code",
   "execution_count": 6,
   "id": "0d835751",
   "metadata": {},
   "outputs": [
    {
     "name": "stdout",
     "output_type": "stream",
     "text": [
      "[[1 2]]\n"
     ]
    }
   ],
   "source": [
    "print(d.T)   #전치로 나타내기"
   ]
  },
  {
   "cell_type": "code",
   "execution_count": 7,
   "id": "ddd037a2",
   "metadata": {},
   "outputs": [
    {
     "name": "stdout",
     "output_type": "stream",
     "text": [
      "[3 4]\n"
     ]
    }
   ],
   "source": [
    "a = np.array([2,1])\n",
    "b = np.array([1,3])\n",
    "print(a+b)         #벡터의 덧셈"
   ]
  },
  {
   "cell_type": "code",
   "execution_count": 8,
   "id": "348365ad",
   "metadata": {},
   "outputs": [
    {
     "name": "stdout",
     "output_type": "stream",
     "text": [
      "[ 1 -2]\n"
     ]
    }
   ],
   "source": [
    "a = np.array([2,1])\n",
    "b = np.array([1,3])\n",
    "print(a-b)         #벡터의 뺄셈"
   ]
  },
  {
   "cell_type": "code",
   "execution_count": 9,
   "id": "cc8b16de",
   "metadata": {},
   "outputs": [
    {
     "name": "stdout",
     "output_type": "stream",
     "text": [
      "[4 2]\n"
     ]
    }
   ],
   "source": [
    "print(2 * a)       #스칼라 값 곱셈 "
   ]
  },
  {
   "cell_type": "code",
   "execution_count": 10,
   "id": "1cfcaddd",
   "metadata": {},
   "outputs": [
    {
     "name": "stdout",
     "output_type": "stream",
     "text": [
      "10\n"
     ]
    }
   ],
   "source": [
    "b = np.array([1,3])\n",
    "c = np.array([4,2])\n",
    "print(b.dot(c))     #변수명1.dot(변수명2) 로 내적을 계산"
   ]
  },
  {
   "cell_type": "code",
   "execution_count": 11,
   "id": "80696a61",
   "metadata": {},
   "outputs": [
    {
     "name": "stdout",
     "output_type": "stream",
     "text": [
      "3.1622776601683795\n"
     ]
    }
   ],
   "source": [
    "a = np.array([1,3])\n",
    "print(np.linalg.norm(a))   #np.linalg.norm()으로 벡터의 크기를 구할 수 있다."
   ]
  },
  {
   "cell_type": "markdown",
   "id": "fc3f72fe",
   "metadata": {},
   "source": [
    "## 합의 기호"
   ]
  },
  {
   "cell_type": "code",
   "execution_count": 1,
   "id": "92c4b350",
   "metadata": {},
   "outputs": [
    {
     "name": "stdout",
     "output_type": "stream",
     "text": [
      "500500.0\n"
     ]
    }
   ],
   "source": [
    "import numpy as np\n",
    "a = np.ones(1000)  #[1 1 1 ... 1]\n",
    "b = np.arange(1, 1001)   #[1 2 3 ... 1000]\n",
    "print(a.dot(b))          #for문을 사용하지 않고 내적으로 계산"
   ]
  },
  {
   "cell_type": "markdown",
   "id": "01e649fc",
   "metadata": {},
   "source": [
    "## 미분"
   ]
  },
  {
   "cell_type": "markdown",
   "id": "8108ca23",
   "metadata": {},
   "source": [
    "머신러닝은 결국 함수에서 최소나 최대인 입력을 찾는 문제(최적화 문제)입니다. 함수의 최저지점은 기울기가 0이되는 성질이 있으므로 이러한 문제를 풀려면 함수의 기울기를 아는 것이 중요"
   ]
  },
  {
   "cell_type": "code",
   "execution_count": null,
   "id": "e6519d3c",
   "metadata": {},
   "outputs": [],
   "source": []
  }
 ],
 "metadata": {
  "kernelspec": {
   "display_name": "Python 3 (ipykernel)",
   "language": "python",
   "name": "python3"
  },
  "language_info": {
   "codemirror_mode": {
    "name": "ipython",
    "version": 3
   },
   "file_extension": ".py",
   "mimetype": "text/x-python",
   "name": "python",
   "nbconvert_exporter": "python",
   "pygments_lexer": "ipython3",
   "version": "3.8.11"
  }
 },
 "nbformat": 4,
 "nbformat_minor": 5
}
