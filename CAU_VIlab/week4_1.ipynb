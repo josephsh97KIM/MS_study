{
 "cells": [
  {
   "cell_type": "markdown",
   "id": "5b84163b",
   "metadata": {},
   "source": [
    "# 7.2  신경망 모델"
   ]
  },
  {
   "cell_type": "markdown",
   "id": "85d1cf88",
   "metadata": {},
   "source": [
    "## 2층 피드 포워드 신경망의 구현"
   ]
  },
  {
   "cell_type": "code",
   "execution_count": 7,
   "id": "14da4f8e",
   "metadata": {},
   "outputs": [],
   "source": [
    "import numpy as np\n",
    "\n",
    "# 데이터 생성 \n",
    "np.random.seed(seed = 1) # 난수 고정\n",
    "N = 200                  # 데이터 수\n",
    "K = 3                    # 분포의 수\n",
    "\n",
    "T = np.zeros((N, 3), dtype = np.uint8)\n",
    "X = np.zeros((N, 2))\n",
    "\n",
    "X_range0 = [-3, 3]      # X0의 범위 표시용\n",
    "X_range1 = [-3, 3]      # X1의 범위 표시용\n",
    "\n",
    "Mu  = np.array([[-.5, -.5], [.5, 1.0], [1, -.5]])  # 분포의 중심\n",
    "Sig = np.array([[.7, .7], [.8, .3], [.3, .8]])     # 분포의 분산\n",
    "Pi  = np.array([0.4, 0.8, 1])                      # 각 분포에 대한 비율\n",
    "\n",
    "for n in range(N) :\n",
    "  wk = np.random.rand()\n",
    "  for k in range(K) :\n",
    "    if wk < Pi[k]:\n",
    "      T[n, k] = 1                                  # 클레스 데이터\n",
    "      break\n",
    "  for k in range(2) :\n",
    "    X[n, k] = np.random.randn() * Sig[T[n, :] == 1, k] + Mu[T[n, :] == 1, k]"
   ]
  },
  {
   "cell_type": "code",
   "execution_count": 17,
   "id": "32ad2721",
   "metadata": {},
   "outputs": [],
   "source": [
    "# 2 분류 데이터를 테스트 훈련 데이터로 분할\n",
    "TestRatio = 0.5                  \n",
    "X_n_training = int(N * TestRatio)\n",
    "\n",
    "X_train = X[:X_n_training, :]\n",
    "X_test  = X[X_n_training:, :]\n",
    "\n",
    "T_train = T[:X_n_training, :]\n",
    "T_test  = T[X_n_training:, :]\n",
    "\n",
    "# 데이터를 'class_data.npz'에 저장\n",
    "np.savez('class_data.npz', X_train = X_train, T_train = T_train, X_test = X_test, T_test = T_test, X_range0 = X_range0, X_range1 = X_range1)"
   ]
  },
  {
   "cell_type": "code",
   "execution_count": 16,
   "id": "bf6c89b7",
   "metadata": {},
   "outputs": [
    {
     "data": {
      "image/png": "[encoded data removed]",
      "text/plain": [
       "<Figure size 576x266.4 with 2 Axes>"
      ]
     },
     "metadata": {
      "needs_background": "light"
     },
     "output_type": "display_data"
    },
    {
     "name": "stdout",
     "output_type": "stream",
     "text": [
      "100\n",
      "100\n",
      "100\n",
      "100\n"
     ]
    }
   ],
   "source": [
    "import matplotlib.pyplot as plt\n",
    "%matplotlib inline\n",
    "\n",
    "# 데이터 그리기 \n",
    "def Show_data(x, t) :      # 분포 표시용 함수 test,train 모두 사용.\n",
    "  wk, n = t.shape\n",
    "  c = [[0, 0, 0], [.5, .5, .5], [1, 1, 1]]\n",
    "  for i in range(n) :\n",
    "    plt.plot(x[t[:, i] == 1, 0], x[t[:, i] == 1, 1], linestyle = 'none', marker = 'o', markeredgecolor = 'black', color = c[i], alpha = 0.8)\n",
    "  plt.grid(True)\n",
    "\n",
    "# 메인 \n",
    "plt.figure(1, figsize = (8, 3.7))\n",
    "plt.subplot(1, 2, 1)\n",
    "Show_data(X_train, T_train)\n",
    "plt.xlim(X_range0)\n",
    "plt.ylim(X_range1)\n",
    "plt.title('Training Data')  \n",
    "\n",
    "plt.subplot(1, 2, 2)\n",
    "Show_data(X_test, T_test)\n",
    "plt.xlim(X_range0)\n",
    "plt.ylim(X_range1)\n",
    "plt.title('Test Data')  # 테스트 데이터를 통한 정확도 높이기\n",
    "plt.show()\n",
    "\n",
    "#행렬의 갯수 출력\n",
    "print(len(X_train))  \n",
    "print(len(X_test))\n",
    "print(len(T_train))\n",
    "print(len(T_test))  "
   ]
  },
  {
   "cell_type": "code",
   "execution_count": 18,
   "id": "2a08fb69",
   "metadata": {},
   "outputs": [
    {
     "data": {
      "text/plain": [
       "(array([[0.33333333, 0.33333333, 0.33333333],\n",
       "        [0.33333333, 0.33333333, 0.33333333]]),\n",
       " array([[2.6971835 , 2.6971835 , 2.6971835 ],\n",
       "        [1.49172649, 1.49172649, 1.49172649]]),\n",
       " array([[0.84859175, 0.84859175, 1.        ],\n",
       "        [0.24586324, 0.24586324, 1.        ]]),\n",
       " array([[ 1.72359839,  1.72359839,  0.        ],\n",
       "        [-1.12079826, -1.12079826,  0.        ]]))"
      ]
     },
     "execution_count": 18,
     "metadata": {},
     "output_type": "execute_result"
    }
   ],
   "source": [
    "def Sigmoid(x) :\n",
    "  y = 1 / (1 + np.exp(-x))\n",
    "  return y\n",
    "\n",
    "# FNN( 2층 피드 포워드 신경망) 함수 정의\n",
    "def FNN(wv, M, K, x) :\n",
    "  N, D = x.shape            # 입력 차원\n",
    "\n",
    "  w = wv[:M * (D + 1)]      # 중간층 뉴런의 가중치\n",
    "  w = w.reshape(M, (D + 1))\n",
    "\n",
    "  v = wv[M * (D + 1):]      # 출력층 뉴런의 가중치\n",
    "  v = v.reshape((K, M + 1))\n",
    "\n",
    "  b = np.zeros((N, M + 1))  # 중간층 뉴런의 입력 총합\n",
    "  z = np.zeros((N, M + 1))  # 중간층 뉴런의 출력\n",
    "\n",
    "  a = np.zeros((N, K))      # 출력층 뉴런의 입력 총합\n",
    "  y = np.zeros((N, K))      # 출력층 뉴런의 출력\n",
    "\n",
    "  for n in range(N) :\n",
    "    # 중간층의 계산\n",
    "    for m in range(M) :\n",
    "      b[n, m] = np.dot(w[m, :], np.r_[x[n, :], 1]) # 1의 값을 가지는 더미 입력 마지막번째 요소에 더함\n",
    "      z[n, m] = Sigmoid(b[n, m])                   # 시그모이드 함수를 활성 함수로 사용\n",
    "    \n",
    "    # 출력층의 계산\n",
    "    z[n, M] = 1              #더미 뉴런\n",
    "    wkz = 0\n",
    "    for k in range(K) :\n",
    "      a[n, k] = np.dot(v[k, :], z[n, :])\n",
    "      wkz = wkz + np.exp(a[n, k])                 \n",
    "    for k in range(K) :\n",
    "      y[n, k] = np.exp(a[n, k]) / wkz             # 시그모이드 함수를 활성 함수로 사용\n",
    "  return y, a, z, b\n",
    "\n",
    "# test \n",
    "WV = np.ones(15)\n",
    "M = 2\n",
    "K = 3\n",
    "FNN(WV, M, K, X_train[:2, :])"
   ]
  },
  {
   "cell_type": "markdown",
   "id": "c43251e7",
   "metadata": {},
   "source": [
    "## 7.2.3 수치 미분법"
   ]
  },
  {
   "cell_type": "code",
   "execution_count": 19,
   "id": "690a0157",
   "metadata": {},
   "outputs": [
    {
     "data": {
      "text/plain": [
       "1.0986122886681098"
      ]
     },
     "execution_count": 19,
     "metadata": {},
     "output_type": "execute_result"
    }
   ],
   "source": [
    "# 평균 교차 엔트로피 오차 \n",
    "def CE_FNN(wv, M, k, x, t) :\n",
    "  N, D = x.shape\n",
    "  y, a, z, b = FNN(wv, M, K, x)\n",
    "  ce = -np.dot(np.log(y.reshape(-1)), t.reshape(-1)) / N   # 평균 교차 엔트로피 오차 계산\n",
    "  return ce\n",
    "\n",
    "# test \n",
    "WV = np.ones(15)\n",
    "M = 2\n",
    "K = 3\n",
    "CE_FNN(WV, M, K, X_train[:2, :], T_train[:2, :])  # 동작 체크"
   ]
  },
  {
   "cell_type": "code",
   "execution_count": 24,
   "id": "4ed8065b",
   "metadata": {},
   "outputs": [
    {
     "name": "stdout",
     "output_type": "stream",
     "text": [
      "[ 0.0884813   0.19157999 -0.05139799  0.01281536 -0.14468029 -0.14242768\n",
      " -0.02992012  0.01351315 -0.11115648 -0.10104422 -0.09427964 -0.46855603\n",
      "  0.13096434  0.08076649  0.57971252]\n"
     ]
    },
    {
     "data": {
      "image/png": "[encoded data removed]",
      "text/plain": [
       "<Figure size 360x216 with 1 Axes>"
      ]
     },
     "metadata": {
      "needs_background": "light"
     },
     "output_type": "display_data"
    }
   ],
   "source": [
    "# 수치 미분 \n",
    "def dCE_FNN_num(wv, M, K, x, t) :\n",
    "  epsilon = 0.001                # epsilon 정의\n",
    "  dwv = np.zeros_like(wv)\n",
    "  for iwv in range(len(wv)) :\n",
    "    wv_modified = wv.copy()\n",
    "    \n",
    "    wv_modified[iwv] = wv[iwv] - epsilon\n",
    "    mse1 = CE_FNN(wv_modified, M, K, x, t)\n",
    "\n",
    "    wv_modified[iwv] = wv[iwv] + epsilon\n",
    "    mse2 = CE_FNN(wv_modified, M, K, x, t)\n",
    "\n",
    "    dwv[iwv] = (mse2 - mse1) / (2 * epsilon)\n",
    "  return dwv\n",
    "\n",
    "# dVW 표시 \n",
    "def Show_WV(wv, M) :\n",
    "  N = wv.shape[0]\n",
    "  plt.bar(range(1, M * 3 + 1), wv[:M * 3], align = \"center\", color = 'black')\n",
    "  plt.bar(range(M * 3 + 1, N + 1), wv[M * 3:], align = \"center\", color = 'cornflowerblue')\n",
    "  plt.xticks(range(1, N + 1))\n",
    "  plt.xlim(0, N + 1)\n",
    "\n",
    "# test \n",
    "M = 2\n",
    "K = 3\n",
    "nWV = M * 3 + K * (M + 1)\n",
    "np.random.seed(1)\n",
    "WV = np.random.normal(0, 1, nWV)\n",
    "dWV = dCE_FNN_num(WV, M, K, X_train[:2, :], T_train[:2, :])\n",
    "print(dWV)\n",
    "\n",
    "plt.figure(1, figsize = (5, 3))\n",
    "Show_WV(dWV, M)\n",
    "plt.title('W                        V')\n",
    "plt.show()"
   ]
  },
  {
   "cell_type": "markdown",
   "id": "8aaba213",
   "metadata": {},
   "source": [
    "## 7.2.4 수치 미분법에 의한 경사 하강법"
   ]
  },
  {
   "cell_type": "code",
   "execution_count": 29,
   "id": "991a7c8c",
   "metadata": {},
   "outputs": [
    {
     "name": "stdout",
     "output_type": "stream",
     "text": [
      "Calculation time:101.072 sec\n"
     ]
    }
   ],
   "source": [
    "import time\n",
    "\n",
    "# 수치 미분을 사용한 구배법 ----\n",
    "def Fit_FNN_num(wv_init, M, K, x_train, t_train, x_test, t_test, n, alpha) :\n",
    "  wvt = wv_init\n",
    "  err_train = np.zeros(n)\n",
    "  err_test  = np.zeros(n)\n",
    "  wv_hist = np.zeros((n, len(wv_init)))\n",
    "  epsilon = 0.001\n",
    "\n",
    "  for i in range(n) : # (A)\n",
    "    wvt = wvt - alpha * dCE_FNN_num(wvt, M, K, x_train, t_train)\n",
    "\n",
    "    err_train[i] = CE_FNN(wvt, M, K, x_train, t_train)\n",
    "    err_test[i]  = CE_FNN(wvt, M, K, x_test, t_test)\n",
    "    wv_hist[i, :] = wvt\n",
    "  return wvt, wv_hist, err_train, err_test\n",
    "\n",
    "# 메인 ----\n",
    "startTime = time.time()\n",
    "\n",
    "M = 2\n",
    "K = 3\n",
    "np.random.seed(1)\n",
    "WV_init = np.random.normal(0, 0.01, M * 3 + K * (M + 1)) # 학습 단계별로 테스트 데이터의 오차도 체크해 오버 피팅이 일어나는지 확인.\n",
    "N_step = 1000 # 학습 단계 수\n",
    "alpha = 0.5   # 학습 상수\n",
    "\n",
    "WV, WV_hist, Err_train, Err_test = Fit_FNN_num(WV_init, M, K, X_train, T_train, X_test, T_test, N_step, alpha)\n",
    "\n",
    "calculation_time = time.time() - startTime\n",
    "print(\"Calculation time:{0:.3f} sec\".format(calculation_time))"
   ]
  },
  {
   "cell_type": "code",
   "execution_count": null,
   "id": "7c00c519",
   "metadata": {},
   "outputs": [],
   "source": [
    "# 학습 오차의 표시 \n",
    "plt.figure(1, figsize = (3, 3))\n",
    "plt.plot(Err_train, 'black', label = 'training')\n",
    "plt.plot(Err_test,  'cornflowerblue', label = 'test')\n",
    "plt.legend()\n",
    "plt.show()"
   ]
  },
  {
   "cell_type": "code",
   "execution_count": null,
   "id": "38ed35cf",
   "metadata": {},
   "outputs": [],
   "source": [
    "# 가중치의 시간 변화의 표시 \n",
    "plt.figure(1, figsize = (3, 3))\n",
    "plt.plot(WV_hist[:, :M * 3], 'black')\n",
    "plt.plot(WV_hist[:, M * 3:], 'cornflowerblue')\n",
    "plt.show()"
   ]
  }
 ],
 "metadata": {
  "kernelspec": {
   "display_name": "Python 3 (ipykernel)",
   "language": "python",
   "name": "python3"
  },
  "language_info": {
   "codemirror_mode": {
    "name": "ipython",
    "version": 3
   },
   "file_extension": ".py",
   "mimetype": "text/x-python",
   "name": "python",
   "nbconvert_exporter": "python",
   "pygments_lexer": "ipython3",
   "version": "3.8.11"
  }
 },
 "nbformat": 4,
 "nbformat_minor": 5
}
