{
 "cells": [
  {
   "cell_type": "markdown",
   "id": "83419990",
   "metadata": {},
   "source": [
    "# 7.2  신경망 모델"
   ]
  },
  {
   "cell_type": "markdown",
   "id": "fda11774",
   "metadata": {},
   "source": [
    "## 2층 피드 포워드 신경망의 구현"
   ]
  },
  {
   "cell_type": "code",
   "execution_count": null,
   "id": "4693da92",
   "metadata": {},
   "outputs": [],
   "source": [
    "import numpy as np\n",
    "\n",
    "# 데이터 생성 \n",
    "np.random.seed(seed = 1) # 난수 고정\n",
    "N = 200                  # 데이터 수\n",
    "K = 3                    # 분포의 수\n",
    "\n",
    "T = np.zeros((N, 3), dtype = np.uint8)\n",
    "X = np.zeros((N, 2))\n",
    "\n",
    "X_range0 = [-3, 3]      # X0의 범위 표시용\n",
    "X_range1 = [-3, 3]      # X1의 범위 표시용\n",
    "\n",
    "Mu  = np.array([[-.5, -.5], [.5, 1.0], [1, -.5]])  # 분포의 중심\n",
    "Sig = np.array([[.7, .7], [.8, .3], [.3, .8]])     # 분포의 분산\n",
    "Pi  = np.array([0.4, 0.8, 1])                      # 각 분포에 대한 비율\n",
    "\n",
    "for n in range(N) :\n",
    "  wk = np.random.rand()\n",
    "  for k in range(K) :\n",
    "    if wk < Pi[k]:\n",
    "      T[n, k] = 1\n",
    "      break\n",
    "  for k in range(2) :\n",
    "    X[n, k] = np.random.randn() * Sig[T[n, :] == 1, k] + Mu[T[n, :] == 1, k]"
   ]
  }
 ],
 "metadata": {
  "kernelspec": {
   "display_name": "Python 3 (ipykernel)",
   "language": "python",
   "name": "python3"
  },
  "language_info": {
   "codemirror_mode": {
    "name": "ipython",
    "version": 3
   },
   "file_extension": ".py",
   "mimetype": "text/x-python",
   "name": "python",
   "nbconvert_exporter": "python",
   "pygments_lexer": "ipython3",
   "version": "3.8.11"
  }
 },
 "nbformat": 4,
 "nbformat_minor": 5
}
